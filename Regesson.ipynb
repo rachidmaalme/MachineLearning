{
 "cells": [
  {
   "cell_type": "code",
   "execution_count": 137,
   "id": "365a52d9",
   "metadata": {
    "scrolled": true
   },
   "outputs": [
    {
     "name": "stdout",
     "output_type": "stream",
     "text": [
      "dataaaa\n",
      "    ones     Exam1     Exam2  Admetted\n",
      "0     1  2.512662  2.132930 -0.173837\n",
      "1     1  2.240620  0.597272 -0.173702\n",
      "2     1  3.637684  1.419708 -0.173102\n",
      "3     1  2.929833  1.091590 -0.172896\n",
      "4     1 -0.079910  0.178613 -0.168814\n",
      "5     1  3.574298  1.097398 -0.169415\n",
      "cost\n",
      " [0.49319497 0.49179681 0.49061098 0.4896042  0.4887486  0.48802086\n",
      " 0.48740139 0.48687369 0.48642389 0.48604025 0.48571287 0.48543336\n",
      " 0.48519463 0.48499063 0.48481627 0.48466718 0.48453966 0.48443057\n",
      " 0.48433722 0.48425733 0.48418893 0.48413037 0.48408023 0.48403728\n",
      " 0.48400049 0.48396898 0.48394199 0.48391886 0.48389904 0.48388206\n",
      " 0.4838675  0.48385503 0.48384434 0.48383517 0.48382732 0.48382059\n",
      " 0.48381482 0.48380987 0.48380563 0.483802   0.48379888 0.48379621\n",
      " 0.48379392 0.48379195 0.48379027 0.48378883 0.48378759 0.48378653\n",
      " 0.48378562 0.48378484 0.48378417 0.4837836  0.4837831  0.48378268\n",
      " 0.48378232 0.48378201 0.48378175 0.48378152 0.48378132 0.48378116\n",
      " 0.48378101 0.48378089 0.48378078 0.48378069 0.48378062 0.48378055\n",
      " 0.48378049 0.48378044 0.4837804  0.48378037 0.48378033 0.48378031\n",
      " 0.48378029 0.48378027 0.48378025 0.48378023 0.48378022 0.48378021\n",
      " 0.4837802  0.4837802  0.48378019 0.48378018 0.48378018 0.48378017\n",
      " 0.48378017 0.48378017 0.48378016 0.48378016 0.48378016 0.48378016\n",
      " 0.48378016 0.48378016 0.48378016 0.48378015]\n"
     ]
    },
    {
     "data": {
      "image/png": "[encoded data removed]",
      "text/plain": [
       "<Figure size 432x288 with 1 Axes>"
      ]
     },
     "metadata": {
      "needs_background": "light"
     },
     "output_type": "display_data"
    },
    {
     "data": {
      "image/png": "[encoded data removed]",
      "text/plain": [
       "<Figure size 360x360 with 1 Axes>"
      ]
     },
     "metadata": {
      "needs_background": "light"
     },
     "output_type": "display_data"
    },
    {
     "data": {
      "image/png": "[encoded data removed]",
      "text/plain": [
       "<Figure size 360x360 with 1 Axes>"
      ]
     },
     "metadata": {
      "needs_background": "light"
     },
     "output_type": "display_data"
    }
   ],
   "source": [
    "# importing the module\n",
    "import pandas as pd\n",
    "import numpy as np \n",
    "import matplotlib.pyplot as plt\n",
    "\n",
    "path = 'C:\\\\data.txt'\n",
    "\n",
    "data= pd.read_csv(path, header=None, \n",
    "                  names=['Exam1','Exam2','Admetted']) \n",
    "\n",
    "# print(\"new data head\\\\_\\ \",data.head(4))\n",
    "# print(\"*****************\")\n",
    "# #data.descibe()\n",
    "\n",
    "data.plot(kind='scatter',x='Exam1',y='Exam2')\n",
    "#rescaling data \n",
    "data=(data - data.mean())/ data.std()\n",
    "\n",
    "data.insert(0,'ones',1)\n",
    "print('dataaaa\\n',data.head(6))\n",
    "\n",
    "#frame data \n",
    "# row =data.shape[0]\n",
    "\n",
    "column =data.shape[1] #shape means nomber of rows 4 in our case\n",
    "\n",
    "x = data.iloc[ :, 0 : column-1] #means get 0 and 1 from our shap\n",
    "y=data.iloc[:,column-1:column] #means get from 1 to 2 \n",
    "\n",
    "#convert from data frame to numpy matrices\n",
    "y=np.matrix(y.values)\n",
    "x=np.matrix(x.values)\n",
    "theta = np.matrix(np.array([0,0,0]))# m=1* n=2\n",
    "# print('x shaape',x.shape)\n",
    "# thetavv=theta.T\n",
    "# print('thetavvv shaape',thetavv.shape)\n",
    "\n",
    "#cost function\n",
    "def computeCost(X,y,theta):\n",
    "    z=np.power(((X*theta.T)-y),2) # theta.T means Transpose \n",
    "    return np.sum(z)/(2*len(X))\n",
    "\n",
    "\n",
    "#Gredient descent theta 1 and 0\n",
    "\n",
    "def gradienDescent(x,y,theta,alpha,iters):\n",
    "#     x=x.to_numpy()\n",
    "    tmp=np.matrix(np.zeros(theta.shape)) #nb of rows\n",
    "    \n",
    "    parameters= int(theta.ravel().shape[1])\n",
    "    \n",
    "    ghaterCost = np.zeros(iters) #matrix in wich we stock iteration\n",
    "    \n",
    "    for i in range(iters):\n",
    "        error=(x * theta.T) - y\n",
    "        \n",
    "        for j in range(parameters):\n",
    "            term=np.multiply(error, x[:,j])\n",
    "            tmp[0,j]=theta[0,j]-((alpha/len(x))*np.sum(term))\n",
    "            \n",
    "        theta=tmp\n",
    "        ghaterCost[i]= computeCost(x,y,theta)\n",
    "    return theta,ghaterCost\n",
    "\n",
    "\n",
    "#initialize variables for learning rate and iterations\n",
    "alpha=0.1\n",
    "iters=94\n",
    "#perform linear regression\n",
    "g, cost= gradienDescent(x,y,theta,alpha,iters)\n",
    "\n",
    "\n",
    "#best fit line\n",
    "\n",
    "x=np.linspace(data.Exam1.min(),data.Exam1.max(),1000)\n",
    "\n",
    "h= g[0,0]+(g[0,1]*x)\n",
    "\n",
    "\n",
    "#draw the line \n",
    "\n",
    "fig,ax= plt.subplots(figsize=(5,5))\n",
    "ax.plot(x,h,'r',label='Predection')\n",
    "                                         \n",
    "ax.scatter(data.Exam1,data.Admetted,label='training')\n",
    "ax.legend(loc=2)\n",
    "ax.set_xlabel('Exam1')\n",
    "ax.set_ylabel('Admetted')\n",
    "ax.set_title('Exam1 vs Admetted ')\n",
    "\n",
    "\n",
    "#draw error graph \n",
    "fig,ax= plt.subplots(figsize=(5,5))\n",
    "ax.plot(np.arange(iters),cost,'r')\n",
    "ax.set_xlabel('Iteration')\n",
    "ax.set_ylabel('Cost')\n",
    "ax.set_title('error vs training ')\n",
    "\n",
    "print('cost\\n',cost)\n"
   ]
  }
 ],
 "metadata": {
  "kernelspec": {
   "display_name": "Python 3 (ipykernel)",
   "language": "python",
   "name": "python3"
  },
  "language_info": {
   "codemirror_mode": {
    "name": "ipython",
    "version": 3
   },
   "file_extension": ".py",
   "mimetype": "text/x-python",
   "name": "python",
   "nbconvert_exporter": "python",
   "pygments_lexer": "ipython3",
   "version": "3.10.4"
  }
 },
 "nbformat": 4,
 "nbformat_minor": 5
}
