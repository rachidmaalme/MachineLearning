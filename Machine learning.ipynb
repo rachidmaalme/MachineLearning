{
 "cells": [
  {
   "cell_type": "code",
   "execution_count": 8,
   "id": "a6f1f59b",
   "metadata": {},
   "outputs": [],
   "source": [
    "# importing the module\n",
    "import pandas as pd\n",
    "import numpy as np \n",
    "\n",
    "# creating a sample dataframe\n",
    "\n",
    "data = pd.DataFrame({'Brand' : ['Maruti', 'Hyundai', 'Tata',\n",
    "\t\t\t\t\t\t\t\t'Mahindra', 'Maruti', 'Hyundai',\n",
    "\t\t\t\t\t\t\t\t'Renault', 'Tata', 'Maruti'],\n",
    "\t\t\t\t\t'Year' : [2012, 2014, 2011, 2015, 2012,\n",
    "\t\t\t\t\t\t\t2016, 2014, 2018, 2019],\n",
    "\t\t\t\t\t'Kms Driven' : [50000, 30000, 60000,\n",
    "\t\t\t\t\t\t\t\t\t25000, 10000, 46000,\n",
    "\t\t\t\t\t\t\t\t\t31000, 15000, 12000],\n",
    "\t\t\t\t\t'City' : ['Gurgaon', 'Delhi', 'Mumbai',\n",
    "\t\t\t\t\t\t\t'Delhi', 'Mumbai', 'Delhi',\n",
    "\t\t\t\t\t\t\t'Mumbai','Chennai', 'Ghaziabad'],\n",
    "\t\t\t\t\t'Mileage' : [28, 27, 25, 26, 28,\n",
    "\t\t\t\t\t\t\t\t29, 24, 21, 24]})\n",
    "\n",
    "# selecting cars with brand 'Maruti' and Mileage > 28\n",
    "#display(data.loc[(data.Brand == 'Maruti') & (data.Mileage > 20)])\n",
    "\n",
    "# selecting range of rows from 2 to 5\n",
    "\n",
    "#display(data.loc[1 : 4])\n",
    "\n",
    "# updating values of Mileage if Year < 2015\n",
    "data.loc[(data.Year < 2015), ['Mileage']] = 18\n",
    "data.loc[(data.Year<2015),['Mileage'] ]=65\n",
    "#display(data)\n",
    "# selecting 0th, 2th, 4th, and 7th index rows\n",
    "\n",
    "#display(data.iloc[[0, 2, 4, 7]])\n",
    "\n",
    "# selecting rows from 1 to 4 and columns from 2 to 4\n",
    "display(data.iloc[1 : 5, 2 : 5])\n",
    "\n",
    "\n",
    "#data.insert(0,'ones',1)\n",
    "data.insert(0,'ones',1)\n",
    "\n",
    "print(\"new data head\\\\_\\ \",data.head(4))\n",
    "print(\"*****************\")\n",
    "#data.descibe()\n",
    "\n",
    "data.plot(kind='scatter',x='Year',y='Mileage')\n",
    "\n",
    "\n",
    "#frame data \n",
    "row=data.shape[0]\n",
    "row =data.shape[0]\n",
    "\n",
    "column =data.shape[1] #shape means m*n of matrix 0 for m and 1 for n\n",
    "\n",
    "column=data.shape[1]\n",
    "\n",
    "X = data.iloc[ :,column-1] #means get 0 and 1 from our shap\n",
    "y=data.iloc[:,column-1:column] #means get from 1 to 2 \n",
    "\n",
    "\n",
    "#convert from data frame to numpy matrices\n",
    "y=np.matrix(y.values)\n",
    "x=np.matrix(X.values)\n",
    "theta =np.matrix(np.array([0,0]))# m=1* n=2\n",
    "\n",
    "\n",
    "\n",
    "#cost function\n",
    "def computeCost(X,y,theta):\n",
    "    z=np.power(((X*theta.T)-y),2) # theta.T means Transpose \n",
    "    return np.sum(z)/(2*len(X))\n",
    "\n",
    "#Gredient descent theta 1 and 0\n",
    "\n",
    "def gradienDescent(X,y,theta,alpha,itera):\n",
    "    \n",
    "    ghateTheta=np.matrix(np.zeros(theta.shape))#nb of rows\n",
    "    \n",
    "    parametrs= int(theta.ravel().shape[1])\n",
    "    \n",
    "    ghaterCost = np.zeros(iters) #matrix in wich we stock iteration\n",
    "    \n",
    "    for i in range(itera):\n",
    "        error=(X*theta.T)-y\n",
    "        \n",
    "        for j in range(parametrs):\n",
    "            \n",
    "            term=np.multiply(error,X[:,1])\n",
    "            \n",
    "            ghateTheta[0,j]=theta[0,j]-((alpha/len(X))*np.sum(term))\n",
    "            \n",
    "        theta=ghateTheta\n",
    "        ghaterCost[i]= computeCost(X,y,theta)\n",
    "    return theta,cost\n",
    "\n",
    "#initialize variables for learning rate and iterations\n",
    "alpha=0.01\n",
    "iters=100\n",
    "g,cost= gradienDescent(X,y,theta,alpha,iters)\n",
    "\n",
    "#best fit line\n",
    "\n",
    "x=np.linspace(data.Population.min(),data.Poupulation.max(),100)\n",
    "\n",
    "h=g[0,0]+(g[0,1]*x)\n",
    "\n",
    "\n",
    "#draw the line \n",
    "\n",
    "fig,ax= plt.subplot(figsize(5,5))\n",
    "ax.plot(x,h,'r',label='Predection')\n",
    "                                         \n",
    "ax.scatter(data.Population,data.Profit,label='training')\n",
    "ax.legend(loc=2)\n",
    "ax.set_xlabel('population')\n",
    "ax.setylabel('Profit')\n",
    "axx.set_titlle('Predicted Profit vs ')\n",
    "\n",
    "\n",
    "#draw error graph \n",
    "fig,ax= plt.subplot(figsize(5,5))\n",
    "ax.plot(np.arange(iters),cost,'r')\n",
    "ax.set_xlabel('Iteration')\n",
    "ax.setylabel('Cost')\n",
    "axx.set_titlle('error vs training ')\n",
    "\n",
    "\n",
    "\n"
   ]
  },
  {
   "cell_type": "code",
   "execution_count": null,
   "id": "97597452",
   "metadata": {},
   "outputs": [],
   "source": [
    "#multivarible\n",
    "#rescaling data beacuse the values of X are far from each ather \n",
    "data2=(data2-data2.mean())/data2.std()\n",
    "\n",
    "data2.insert(0,'Ones',1)\n",
    "X2=data.iloc[; , 0: col-1]\n",
    "y2=data.iloc[; ,col-1:col]\n",
    "\n",
    "X2=np.matrix(X2.values)\n",
    "y2=np.matrix(y2.values)\n",
    "theta2=np.matrix(np.array([0,0,0]))\n",
    "\n",
    "#thea0+thea1*X1+thea2*X2\n",
    "\n",
    "#initia variable\n",
    "alph=0.1\n",
    "iters=100\n",
    "g2,cost2=gradienDescent(X,y,theta,alpha,iters)\n",
    "#get the cost error of the moel\n",
    "thiscost=computeCost(X2,y2,h2)\n",
    "\n",
    "\n",
    "#best fit line\n",
    "\n",
    "x=np.linspace(data2.Population.min(),data2.Poupulation.max(),100)\n",
    "\n",
    "h=g2[0,0]+(g2[0,1]*x)\n",
    "\n",
    "\n",
    "#draw the line \n",
    "\n",
    "fig,ax= plt.subplot(figsize(5,5))\n",
    "ax.plot(x,h,'r',label='Predection')\n",
    "ax.scatter(data.Population,data.Profit,label='training')\n",
    "ax.legend(loc=2)\n",
    "ax.set_xlabel('population')\n",
    "ax.setylabel('Profit')\n",
    "axx.set_titlle('Predicted Profit vs ')\n",
    "\n",
    "\n",
    "#draw error graph \n",
    "fig,ax= plt.subplot(figsize(5,5))\n",
    "ax.plot(np.arange(iters),cost,'r')\n",
    "ax.set_xlabel('Iteration')\n",
    "ax.setylabel('Cost')\n",
    "axx.set_titlle('error vs training ')\n",
    "\n"
   ]
  },
  {
   "cell_type": "code",
   "execution_count": 35,
   "id": "76d26fa4",
   "metadata": {},
   "outputs": [],
   "source": [
    "def getMax(lst):\n",
    "    current=lst[0]\n",
    "    for el in lst[1:]:\n",
    "         if el > current:\n",
    "                 current=el\n",
    "    return current"
   ]
  },
  {
   "cell_type": "code",
   "execution_count": 37,
   "id": "81222276",
   "metadata": {
    "scrolled": true
   },
   "outputs": [
    {
     "data": {
      "text/plain": [
       "80"
      ]
     },
     "execution_count": 37,
     "metadata": {},
     "output_type": "execute_result"
    }
   ],
   "source": [
    "getMax([1,2,3,80])"
   ]
  },
  {
   "cell_type": "code",
   "execution_count": 46,
   "id": "b338cabd",
   "metadata": {},
   "outputs": [
    {
     "data": {
      "text/plain": [
       "<function matplotlib.pyplot.show(close=None, block=None)>"
      ]
     },
     "execution_count": 46,
     "metadata": {},
     "output_type": "execute_result"
    },
    {
     "data": {
      "image/png": "[encoded data removed]",
      "text/plain": [
       "<Figure size 432x288 with 1 Axes>"
      ]
     },
     "metadata": {
      "needs_background": "light"
     },
     "output_type": "display_data"
    }
   ],
   "source": [
    "import matplotlib.pyplot as plt\n",
    "fun= lambda x : np.sin(x)\n",
    "x=np.linspace(-np.pi,np.pi, 100)\n",
    "y=[fun(i) for i in x]\n",
    "plt.plot(x,y)\n",
    "plt.show"
   ]
  },
  {
   "cell_type": "code",
   "execution_count": 47,
   "id": "fb34e403",
   "metadata": {},
   "outputs": [
    {
     "data": {
      "image/png": "[encoded data removed]",
      "text/plain": [
       "<Figure size 432x288 with 1 Axes>"
      ]
     },
     "metadata": {
      "needs_background": "light"
     },
     "output_type": "display_data"
    }
   ],
   "source": [
    "\n",
    "import numpy as np\n",
    "\n",
    "xpoints = np.array([1, 8])\n",
    "ypoints = np.array([3, 10])\n",
    "\n",
    "plt.plot(xpoints, ypoints)\n",
    "plt.show()"
   ]
  },
  {
   "cell_type": "code",
   "execution_count": 144,
   "id": "a1140d87",
   "metadata": {
    "scrolled": false
   },
   "outputs": [
    {
     "name": "stdout",
     "output_type": "stream",
     "text": [
      "average is 177.2962962962963\n",
      "27\n",
      "average is 2.0\n",
      "3\n",
      "mee 20.0\n",
      "so 3 5\n",
      "arg arg2 arg3\n",
      "1024\n",
      "0\n",
      "1\n",
      "2\n",
      "3\n",
      "4\n",
      "5\n",
      "6\n",
      "7\n",
      "8\n",
      "9\n"
     ]
    }
   ],
   "source": [
    "import random as rn\n",
    "''''a=rn.random() # from 0 to 1\n",
    "b=rn.randint(1,89)\n",
    "b=rn.randrange(1,189,4) #4 step\n",
    "b=rn.choice([1,2,3,50]) '''\n",
    "val=[1,189,4]\n",
    "rn.shuffle(val) # re order values \n",
    "#print(val)\n",
    "\n",
    "def findverage(*numbers): # args means list but **numbers is a dectionary {'kay':value,'kay2':value2}\n",
    "    sum=0\n",
    "    for i in numbers:\n",
    "        sum+=i\n",
    "    print(\"average is\",sum/len(numbers))\n",
    "    print(len(numbers))\n",
    "findverage(1,2,3,4,5,5,5,5,5,2,5,4,8,84,654,6,75,465,768,68,768,768,768,76,87,68,78)\n",
    "findverage(1,2,3)\n",
    "\n",
    "def av(a,b):\n",
    "    print('mee',((a+b)/2.0))\n",
    "\n",
    "var={'a':20,'b':20}\n",
    "av(**var)\n",
    "\n",
    "\n",
    "def test_args(a,ag,agr):\n",
    "    print(a,ag,agr)\n",
    "\n",
    "agrs=(\"so\",3,5) \n",
    "test_args(*agrs)\n",
    "var1 = {'arg': '45','arg2':54,'arg3':8}\n",
    "test_args(*var1)\n",
    "\n",
    "lap= lambda x,y : x**y\n",
    "\n",
    "print(lap(2,10))\n",
    "\n",
    "mylist=[1,2,3,4,6,46,534,54]\n",
    "nm=list(filter(lambda x: x%2!=0,mylist))\n",
    "mapf=list(map(lambda x: x**2,mylist))\n",
    "#print(mapf)\n",
    "#print(mylist)\n",
    "\n",
    "def yieldD():\n",
    "    for i in range(10):\n",
    "        yield i\n",
    "for g in yieldD():\n",
    "    print(g)\n"
   ]
  }
 ],
 "metadata": {
  "kernelspec": {
   "display_name": "Python 3 (ipykernel)",
   "language": "python",
   "name": "python3"
  },
  "language_info": {
   "codemirror_mode": {
    "name": "ipython",
    "version": 3
   },
   "file_extension": ".py",
   "mimetype": "text/x-python",
   "name": "python",
   "nbconvert_exporter": "python",
   "pygments_lexer": "ipython3",
   "version": "3.10.4"
  }
 },
 "nbformat": 4,
 "nbformat_minor": 5
}
