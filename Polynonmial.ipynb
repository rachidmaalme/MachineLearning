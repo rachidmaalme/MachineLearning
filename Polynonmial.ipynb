{
 "cells": [
  {
   "cell_type": "code",
   "execution_count": 12,
   "id": "0ed2463e",
   "metadata": {},
   "outputs": [
    {
     "name": "stdout",
     "output_type": "stream",
     "text": [
      "5.499999999999999 - 4.063636363636364 x**1 \n",
      " [array([15.22424242]), 2, array([1., 1.]), 2.220446049250313e-15]\n"
     ]
    }
   ],
   "source": [
    "#polynomes\n",
    "import numpy as np\n",
    "\n",
    "Polynomial = np.polynomial.Polynomial\n",
    "\n",
    "X= np.array([0,20,40,60,80,100,120,140,160,180])\n",
    "Y= np.array([10,9,8,7,6,5,2,1,4,3])\n",
    "\n",
    "points,stats = Polynomial.fit(X,Y,1,full=True)#1 means equ of 1 degree 5.5x -4.5 \n",
    "\n",
    "print(points,'\\n',stats)\n"
   ]
  },
  {
   "cell_type": "code",
   "execution_count": 16,
   "id": "80c61344",
   "metadata": {},
   "outputs": [
    {
     "name": "stdout",
     "output_type": "stream",
     "text": [
      " \n",
      "-7\n",
      "-------------------------\n",
      " \n",
      "-7 x + 2\n",
      "-------------------------\n",
      "    2\n",
      "-7 x + 2 x + 1\n",
      "-------------------------\n",
      "    3     2\n",
      "-7 x + 2 x + 1 x + 3\n",
      "-------------------------\n",
      "    4     3     2\n",
      "-7 x + 2 x + 1 x + 3 x + 6\n"
     ]
    }
   ],
   "source": [
    "\n",
    "\n",
    "from numpy import *\n",
    "\n",
    "a = poly1d((-7))\n",
    "b = poly1d((-7,2))\n",
    "c = poly1d((-7,2,1))\n",
    "d = poly1d((-7,2,1,3))\n",
    "e = poly1d((-7,2,1,3,6))\n",
    "\n",
    "\n",
    "print(a)\n",
    "print('-------------------------')\n",
    "print(b)\n",
    "print('-------------------------')\n",
    "print(c)\n",
    "print('-------------------------')\n",
    "print(d)\n",
    "print('-------------------------')\n",
    "print(e)"
   ]
  },
  {
   "cell_type": "code",
   "execution_count": 17,
   "id": "fe9b9ca3",
   "metadata": {},
   "outputs": [
    {
     "name": "stdout",
     "output_type": "stream",
     "text": [
      "    4     3     2\n",
      "-7 x + 2 x + 1 x + 3 x + 6\n",
      "-------------------------\n",
      "-4079\n",
      "-------------------------\n",
      "6\n",
      "-------------------------\n",
      "-360939\n"
     ]
    }
   ],
   "source": [
    "from numpy import *\n",
    "\n",
    "a = poly1d((-7,2,1,3,6))\n",
    "\n",
    "b=a(5) #plug this number into x to get the value of polynom as a whole\n",
    "c=a(0)\n",
    "d=a(-15)\n",
    "\n",
    "print(a)\n",
    "print('-------------------------')\n",
    "print(b)\n",
    "print('-------------------------')\n",
    "print(c)\n",
    "print('-------------------------')\n",
    "print(d)\n"
   ]
  },
  {
   "cell_type": "code",
   "execution_count": 21,
   "id": "501faf14",
   "metadata": {
    "scrolled": true
   },
   "outputs": [
    {
     "name": "stdout",
     "output_type": "stream",
     "text": [
      "4\n",
      "-------------------------\n",
      "66\n",
      "-------------------------\n",
      "-13\n",
      "-------------------------\n",
      "29738.769599999992\n"
     ]
    }
   ],
   "source": [
    "from numpy import *\n",
    "\n",
    "a = polyval((1,2),2) #poly with the value of x\n",
    "b = polyval((1,2,3),7)\n",
    "c = polyval((1,2,3,5),-3)\n",
    "d = polyval((1,2,3,5,-6),12.6)\n",
    "\n",
    "\n",
    "print(a)\n",
    "print('-------------------------')\n",
    "print(b)\n",
    "print('-------------------------')\n",
    "print(c)\n",
    "print('-------------------------')\n",
    "print(d)"
   ]
  },
  {
   "cell_type": "code",
   "execution_count": 23,
   "id": "6f1c118a",
   "metadata": {},
   "outputs": [
    {
     "name": "stdout",
     "output_type": "stream",
     "text": [
      " \n",
      "2 x + 2\n",
      "-------------------------\n",
      " \n",
      "2\n",
      "-------------------------\n",
      " \n",
      "0\n",
      "-------------------------\n",
      "   3     2\n",
      "4 x + 6 x + 6 x + 5\n",
      "-------------------------\n",
      " \n",
      "24 x + 12\n"
     ]
    }
   ],
   "source": [
    "from numpy import *\n",
    "#derevitive\n",
    "\n",
    "a =polyder(poly1d((1,2,3)))\n",
    "b =polyder(poly1d((1,2,3)),2) \n",
    "c =polyder(poly1d((1,2,3)),3)# number of drevetive\n",
    "\n",
    "d =polyder(poly1d((1,2,3,5,12)))\n",
    "e =polyder(poly1d((1,2,3,5,12)),3)\n",
    "\n",
    "print(a)\n",
    "print('-------------------------')\n",
    "print(b)\n",
    "print('-------------------------')\n",
    "print(c)\n",
    "print('-------------------------')\n",
    "print(d)\n",
    "print('-------------------------')\n",
    "print(e)\n"
   ]
  },
  {
   "cell_type": "code",
   "execution_count": 26,
   "id": "e9465547",
   "metadata": {},
   "outputs": [
    {
     "name": "stdout",
     "output_type": "stream",
     "text": [
      "10\n",
      "-------------------------\n",
      "2\n",
      "-------------------------\n",
      "0\n",
      "-------------------------\n",
      "1\n",
      "-------------------------\n",
      "132\n"
     ]
    }
   ],
   "source": [
    "\n",
    "\n",
    "from numpy import *\n",
    "\n",
    "a =polyder(poly1d((1,2,3)))\n",
    "b =polyder(poly1d((1,2,3)),2)\n",
    "c =polyder(poly1d((1,2,3)),3)\n",
    "d =polyder(poly1d((1,2,3,5,12)))\n",
    "e =polyder(poly1d((1,2,3,5,12)),3)\n",
    "\n",
    "print(a(4))\n",
    "print('-------------------------')\n",
    "print(b(0))\n",
    "print('-------------------------')\n",
    "print(c(3))\n",
    "print('-------------------------')\n",
    "print(d(-1))\n",
    "print('-------------------------')\n",
    "print(e(5))\n"
   ]
  },
  {
   "cell_type": "code",
   "execution_count": 29,
   "id": "7cda82a3",
   "metadata": {},
   "outputs": [
    {
     "name": "stdout",
     "output_type": "stream",
     "text": [
      "        3     2\n",
      "0.3333 x + 1 x + 3 x\n",
      "-------------------------\n",
      "         4          3       2\n",
      "0.08333 x + 0.3333 x + 1.5 x\n",
      "-------------------------\n",
      "         5           4       3\n",
      "0.01667 x + 0.08333 x + 0.5 x\n",
      "-------------------------\n",
      "     5       4     3       2\n",
      "0.2 x + 0.5 x + 1 x + 2.5 x + 12 x\n",
      "-------------------------\n",
      "1168.8988095238094\n"
     ]
    }
   ],
   "source": [
    "#integration\n",
    "from numpy import *\n",
    "\n",
    "a =polyint(poly1d((1,2,3)))\n",
    "b =polyint(poly1d((1,2,3)),2)\n",
    "c =polyint(poly1d((1,2,3)),3)\n",
    "\n",
    "d =polyint(poly1d((1,2,3,5,12)))\n",
    "e =polyint(poly1d((1,2,3,5,12)),3)\n",
    "\n",
    "print(a)\n",
    "print('-------------------------')\n",
    "print(b)\n",
    "print('-------------------------')\n",
    "print(c)\n",
    "print('-------------------------')\n",
    "print(d)\n",
    "print('-------------------------')\n",
    "print(e(5))\n"
   ]
  },
  {
   "cell_type": "code",
   "execution_count": 37,
   "id": "711e0b54",
   "metadata": {},
   "outputs": [
    {
     "name": "stdout",
     "output_type": "stream",
     "text": [
      "[-2.]\n",
      "-------------------------\n",
      "[-1.+1.41421356j -1.-1.41421356j]\n",
      "-------------------------\n",
      "[-1.84373428+0.j         -0.07813286+1.64492638j -0.07813286-1.64492638j]\n",
      "-------------------------\n",
      "[-1.61635728+1.15083694j -1.61635728-1.15083694j  0.61635728+1.63342631j\n",
      "  0.61635728-1.63342631j]\n",
      "-------------------------\n",
      "[ 0.98732723+1.53502015j  0.98732723-1.53502015j -1.06743101+1.56536107j\n",
      " -1.06743101-1.56536107j -1.83979245+0.j        ]\n",
      "-------------------------\n",
      "[-1.84373428+0.j         -0.07813286+1.64492638j -0.07813286-1.64492638j]\n",
      "-------------------------\n",
      "[-1.61635728+1.15083694j -1.61635728-1.15083694j  0.61635728+1.63342631j\n",
      "  0.61635728-1.63342631j]\n",
      "-------------------------\n",
      "[ 0.98732723+1.53502015j  0.98732723-1.53502015j -1.06743101+1.56536107j\n",
      " -1.06743101-1.56536107j -1.83979245+0.j        ]\n"
     ]
    }
   ],
   "source": [
    "#solutions of equation its roots\n",
    "from numpy import *\n",
    "\n",
    "\n",
    "a =roots(poly1d((1,2)))\n",
    "b =roots(poly1d((1,2,3)))\n",
    "c =roots(poly1d((1,2,3,5)))\n",
    "d =roots(poly1d((1,2,3,5,12)))\n",
    "e =roots(poly1d((1,2,3,5,12,22)))\n",
    "# J imaginary nm\n",
    "\n",
    "\n",
    "print(a)\n",
    "print('-------------------------')\n",
    "print(b)\n",
    "print('-------------------------')\n",
    "print(c)\n",
    "print('-------------------------')\n",
    "print(d)\n",
    "print('-------------------------')\n",
    "print (e)\n",
    "print('-------------------------')\n",
    "print(c)\n",
    "print('-------------------------')\n",
    "print(d)\n",
    "print('-------------------------')\n",
    "print(e)\n",
    "\n"
   ]
  },
  {
   "cell_type": "code",
   "execution_count": 38,
   "id": "7a1fa7f9",
   "metadata": {},
   "outputs": [
    {
     "name": "stdout",
     "output_type": "stream",
     "text": [
      "[3 6 2 5 4]\n",
      "-------------------------\n",
      "[ 2.   3.  -9.   6.   2.5]\n",
      "-------------------------\n",
      "[ -1.78571429  17.08571429 -35.3       ]\n",
      "-------------------------\n"
     ]
    }
   ],
   "source": [
    "\n",
    "\n",
    "from numpy import *\n",
    "\n",
    "x = array([3,6,2,5,4])\n",
    "y = array([2,3,-9,6,2.5])\n",
    "z = polyfit(x, y, 2)\n",
    "\n",
    "\n",
    "print(x)\n",
    "print('-------------------------')\n",
    "print(y)\n",
    "print('-------------------------')\n",
    "print(z)\n",
    "print('-------------------------')\n",
    "\n"
   ]
  },
  {
   "cell_type": "code",
   "execution_count": 48,
   "id": "d2f6421c",
   "metadata": {
    "scrolled": true
   },
   "outputs": [
    {
     "name": "stdout",
     "output_type": "stream",
     "text": [
      "2022-07-04\n",
      "-------------------------\n"
     ]
    }
   ],
   "source": [
    "#dates\n",
    "\n",
    "from numpy import *\n",
    "x = array('2022-07-04', dtype=datetime64)\n",
    "\n",
    "print(x)\n",
    "print('-------------------------')\n",
    "\n"
   ]
  },
  {
   "cell_type": "code",
   "execution_count": 49,
   "id": "2835305f",
   "metadata": {},
   "outputs": [
    {
     "name": "stdout",
     "output_type": "stream",
     "text": [
      "2022-04-23\n",
      "-------------------------\n"
     ]
    }
   ],
   "source": [
    "\n",
    "from numpy import *\n",
    "x = datetime64('2022-04-23')\n",
    "print(x)\n",
    "print('-------------------------')\n"
   ]
  },
  {
   "cell_type": "code",
   "execution_count": 52,
   "id": "05fabace",
   "metadata": {},
   "outputs": [
    {
     "name": "stdout",
     "output_type": "stream",
     "text": [
      "2021-07-25\n",
      "-------------------------\n",
      "['2021-07-25' '2021-07-26' '2021-07-27' '2021-07-28' '2021-07-29'\n",
      " '2021-07-30' '2021-07-31' '2021-08-01' '2021-08-02' '2021-08-03'\n",
      " '2021-08-04' '2021-08-05']\n"
     ]
    }
   ],
   "source": [
    "from numpy import *\n",
    "x = datetime64('2021-07-25')\n",
    "\n",
    "y = x + arange(12) #range is a list but aranage is matrix\n",
    "\n",
    "print(x)\n",
    "print('-------------------------')\n",
    "print(y)\n"
   ]
  },
  {
   "cell_type": "code",
   "execution_count": 2,
   "id": "bb5240da",
   "metadata": {
    "scrolled": true
   },
   "outputs": [
    {
     "name": "stdout",
     "output_type": "stream",
     "text": [
      "2022-04-22\n",
      "-------------------------\n",
      "2022-05-11\n",
      "-------------------------\n",
      "19 days\n"
     ]
    }
   ],
   "source": [
    "from numpy import *\n",
    "x = datetime64('2022-04-22')\n",
    "y = datetime64('2022-05-11')\n",
    "\n",
    "z = y-x\n",
    "\n",
    "print(x)\n",
    "print('-------------------------')\n",
    "print(y)\n",
    "print('-------------------------')\n",
    "print(z)\n"
   ]
  },
  {
   "cell_type": "code",
   "execution_count": 3,
   "id": "ffa888fd",
   "metadata": {},
   "outputs": [
    {
     "name": "stdout",
     "output_type": "stream",
     "text": [
      "[  0.   1.   8.  27.  64. 125. 216. 343. 512. 729.]\n",
      "-------------------------\n",
      "[ 375.  648. 1029. 1536. 2187. 3000. 3993. 5184. 6591. 8232.]\n",
      "-------------------------\n"
     ]
    }
   ],
   "source": [
    "#fuction\n",
    "from numpy import *\n",
    "\n",
    "x = fromfunction(lambda i: i**3, (10,))# (10,) marix with one col\n",
    "\n",
    "print(x)\n",
    "print('-------------------------')\n"
   ]
  },
  {
   "cell_type": "code",
   "execution_count": 4,
   "id": "8e54c66e",
   "metadata": {},
   "outputs": [
    {
     "name": "stdout",
     "output_type": "stream",
     "text": [
      "[ 375.  648. 1029. 1536. 2187. 3000. 3993. 5184. 6591. 8232.]\n",
      "-------------------------\n"
     ]
    }
   ],
   "source": [
    "from numpy import *\n",
    "\n",
    "x = fromfunction(lambda i: 3 * (i+5)**3, (10,))\n",
    "\n",
    "print(x)\n",
    "print('-------------------------')\n",
    "x = fromfunction(lambda i,j: i+j, (4,5))\n",
    "\n",
    "print(x)\n",
    "print('-------------------------')\n"
   ]
  },
  {
   "cell_type": "code",
   "execution_count": 12,
   "id": "06d1c23a",
   "metadata": {},
   "outputs": [
    {
     "name": "stdout",
     "output_type": "stream",
     "text": [
      "[[0. 1. 2. 3. 4.]\n",
      " [1. 2. 3. 4. 5.]\n",
      " [2. 3. 4. 5. 6.]\n",
      " [3. 4. 5. 6. 7.]]\n",
      "-------------------------\n"
     ]
    }
   ],
   "source": [
    "x = fromfunction(lambda i,j: i+j, (4,5))# i =4 and j=5 each element of i is add on row of j\n",
    "\n",
    "\n",
    "print(x)\n",
    "print('-------------------------')\n"
   ]
  },
  {
   "cell_type": "code",
   "execution_count": 14,
   "id": "badffbfd",
   "metadata": {},
   "outputs": [
    {
     "name": "stdout",
     "output_type": "stream",
     "text": [
      "[[ 0.  0.  0.  0.  0.]\n",
      " [ 0.  3.  6.  9. 12.]\n",
      " [ 0.  6. 12. 18. 24.]\n",
      " [ 0.  9. 18. 27. 36.]]\n",
      "-------------------------\n"
     ]
    }
   ],
   "source": [
    "from numpy import *\n",
    "\n",
    "x = fromfunction(lambda i,j: 3*i*j, (4,5))\n",
    "\n",
    "print(x)\n",
    "print('-------------------------')\n"
   ]
  },
  {
   "cell_type": "code",
   "execution_count": 15,
   "id": "de0e54b3",
   "metadata": {},
   "outputs": [
    {
     "name": "stdout",
     "output_type": "stream",
     "text": [
      "[[[0. 1. 2. 3.]\n",
      "  [1. 2. 3. 4.]\n",
      "  [2. 3. 4. 5.]]\n",
      "\n",
      " [[1. 2. 3. 4.]\n",
      "  [2. 3. 4. 5.]\n",
      "  [3. 4. 5. 6.]]]\n",
      "-------------------------\n"
     ]
    }
   ],
   "source": [
    "from numpy import *\n",
    "\n",
    "x = fromfunction(lambda i,j,k: i+j+k, (2,3,4))\n",
    "\n",
    "print(x)\n",
    "print('-------------------------')\n"
   ]
  },
  {
   "cell_type": "code",
   "execution_count": 5,
   "id": "135fb09a",
   "metadata": {},
   "outputs": [
    {
     "name": "stdout",
     "output_type": "stream",
     "text": [
      "[[[ 0.  0.  0.  0.]\n",
      "  [ 0.  0.  0.  0.]\n",
      "  [ 0.  0.  0.  0.]]\n",
      "\n",
      " [[ 0.  0.  0.  0.]\n",
      "  [ 0.  2.  4.  6.]\n",
      "  [ 0.  8. 16. 24.]]]\n",
      "-------------------------\n"
     ]
    }
   ],
   "source": [
    "from numpy import *\n",
    "\n",
    "x = fromfunction(lambda i,j,k: (2*i)*(j**2)*k, (2,3,4))\n",
    "\n",
    "print(x)\n",
    "print('-------------------------')\n"
   ]
  },
  {
   "cell_type": "code",
   "execution_count": 23,
   "id": "48faa078",
   "metadata": {},
   "outputs": [
    {
     "name": "stdout",
     "output_type": "stream",
     "text": [
      "[ 0.  1.  4.  9. 16. 25. 36. 49. 64.]\n",
      "-------------------------\n"
     ]
    }
   ],
   "source": [
    "from numpy import *\n",
    "\n",
    "def powers(i):\n",
    "    i = i**2\n",
    "    return i\n",
    "x = fromfunction(powers, (9,), dtype=int)\n",
    "\n",
    "print(x)\n",
    "print('-------------------------')\n"
   ]
  },
  {
   "cell_type": "code",
   "execution_count": 25,
   "id": "3a0bbcf0",
   "metadata": {},
   "outputs": [
    {
     "name": "stdout",
     "output_type": "stream",
     "text": [
      "[[ 1  0  0  0  0]\n",
      " [ 1  1  1  1  1]\n",
      " [ 1  2  4  8 16]\n",
      " [ 1  3  9 27 81]]\n",
      "-------------------------\n"
     ]
    }
   ],
   "source": [
    "from numpy import *\n",
    "\n",
    "def powers(i,j):\n",
    "    i = i**j\n",
    "    return i\n",
    "\n",
    "\n",
    "x = fromfunction(powers, (4,5), dtype=int)\n",
    "\n",
    "print(x)\n",
    "print('-------------------------')\n"
   ]
  },
  {
   "cell_type": "code",
   "execution_count": 33,
   "id": "7f1f6026",
   "metadata": {},
   "outputs": [
    {
     "name": "stdout",
     "output_type": "stream",
     "text": [
      "[ True False False False False  True False False False False  True]\n",
      "-------------------------\n"
     ]
    }
   ],
   "source": [
    "from numpy import *\n",
    "\n",
    "m,n = 11, 5\n",
    "\n",
    "def f(i):\n",
    "    return (i % n == 0)\n",
    "x = fromfunction(f, (m,), dtype=int)\n",
    "\n",
    "print(x)\n",
    "print('-------------------------')\n"
   ]
  }
 ],
 "metadata": {
  "kernelspec": {
   "display_name": "Python 3 (ipykernel)",
   "language": "python",
   "name": "python3"
  },
  "language_info": {
   "codemirror_mode": {
    "name": "ipython",
    "version": 3
   },
   "file_extension": ".py",
   "mimetype": "text/x-python",
   "name": "python",
   "nbconvert_exporter": "python",
   "pygments_lexer": "ipython3",
   "version": "3.10.4"
  }
 },
 "nbformat": 4,
 "nbformat_minor": 5
}
