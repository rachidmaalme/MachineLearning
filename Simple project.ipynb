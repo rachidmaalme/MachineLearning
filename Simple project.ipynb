{
 "cells": [
  {
   "cell_type": "code",
   "execution_count": null,
   "id": "0c55e76e",
   "metadata": {},
   "outputs": [
    {
     "name": "stderr",
     "output_type": "stream",
     "text": [
      "FiggsSackrider\n"
     ]
    },
    {
     "name": "stdout",
     "output_type": "stream",
     "text": [
      "Welcome to the Psych 'Sidekick Name Picker.'\n",
      "\n",
      "A name just like Sean would pick for Gus:\n",
      "\n",
      "\n",
      "\n",
      "\n",
      "\n",
      "\n",
      "\n",
      "\n"
     ]
    }
   ],
   "source": [
    "import sys\n",
    "import random\n",
    "\n",
    "\n",
    "        print(\"Welcome to the Psych 'Sidekick Name Picker.'\\n\")\n",
    "        print(\"A name just like Sean would pick for Gus:\\n\\n\")\n",
    "        first = ('Baby Oil', 'Bad News', 'Big Burps', \"Bill 'Beenie­Weenie'\",\n",
    "        \"Bob 'Stinkbug'\", 'Bowel Noises', 'Boxelder', \"Bud 'Lite' \",\n",
    "        'Butterbean', 'Buttermilk', 'Buttocks', 'Chad', 'Chesterfield',\n",
    "        'Chewy', 'Chigger\", \"Cinnabuns', 'Cleet', 'Cornbread', 'Crab Meat',\n",
    "        'Crapps', 'Dark Skies', 'Dennis Clawhammer', 'Dicman', 'Elphonso',\n",
    "        'Fancypants', 'Figgs', 'Foncy', 'Gootsy', 'Greasy Jim', 'Huckleberry',\n",
    "        'Huggy', 'Ignatious', 'Jimbo', \"Joe 'Pottin Soil'\", 'Johnny',\n",
    "        'Lemongrass', 'Lil Debil', 'Longbranch', '\"Lunch Money\"',\n",
    "        'Mergatroid', '\"Mr Peabody\"', 'Oil­Can', 'Oinks', 'Old Scratch',\n",
    "        'Ovaltine', 'Pennywhistle', 'Pitchfork Ben', 'Potato Bug',\n",
    "        'Pushmeet','Rock Candy', 'Schlomo', 'Scratchensniff', 'Scut',\n",
    "        \"Sid 'The Squirts'\", 'Skidmark', 'Slaps', 'Snakes', 'Snoobs',\n",
    "        'Snorki', 'Soupcan Sam', 'Spitzitout', 'Squids', 'Stinky',\n",
    "        'Storyboard', 'Sweet Tea', 'TeeTee', 'Wheezy Joe',\n",
    "        \"Winston 'Jazz Hands'\", 'Worms')\n",
    "        last = ('Appleyard', 'Bigmeat', 'Bloominshine', 'Boogerbottom',\n",
    "        'Breedslovetrout', 'Butterbaugh', 'Clovenhoof', 'Clutterbuck',\n",
    "        'Cocktoasten', 'Endicott', 'Fewhairs', 'Gooberdapple', 'Goodensmith',\n",
    "        'Goodpasture', 'Guster', 'Henderson', 'Hooperbag', 'Hoosenater',\n",
    "        'Hootkins', 'Jefferson', 'Jenkins', 'Jingley­Schmidt', 'Johnson',\n",
    "        'Kingfish', 'Listenbee', \"M'Bembo\", 'McFadden', 'Moonshine', 'Nettles',\n",
    "        'Noseworthy', 'Olivetti', 'Outerbridge', 'Overpeck', 'Overturf',\n",
    "        'Oxhandler', 'Pealike', 'Pennywhistle', 'Peterson', 'Pieplow',\n",
    "        'Pinkerton', 'Porkins', 'Putney', 'Quakenbush', 'Rainwater',\n",
    "        'Rosenthal', 'Rubbins', 'Sackrider', 'Snuggleshine', 'Splern',\n",
    "        'Stevens', 'Stroganoff', 'Sugar­Gold', 'Swackhamer', 'Tippins',\n",
    "        'Turnipseed', 'Vinaigrette', 'Walkingstick', 'Wallbanger', 'Weewax',\n",
    "        'Weiners', 'Whipkey', 'Wigglesworth', 'Wimplesnatch', 'Winterkorn',\n",
    "        'Woolysocks')\n",
    "\n",
    "            while True:\n",
    "                firdtname= random.choice(first)\n",
    "                lastname = random.choice(last)\n",
    "                print(\"\\n\\n\")\n",
    "                print(\"{}{}\".format(firdtname,lastname),file=sys.stderr)\n",
    "                print(\"\\n\\n\")\n",
    "\n",
    "                try_again = input(\"\\n\\nTry again? (Press Enter else n to quit)\\n \")\n",
    "                if try_again.lower()==\"n\":\n",
    "                    break\n",
    "                input(\"\\nPress Enter to exit.\")\n"
   ]
  },
  {
   "cell_type": "code",
   "execution_count": null,
   "id": "4bd9442d",
   "metadata": {},
   "outputs": [],
   "source": []
  }
 ],
 "metadata": {
  "kernelspec": {
   "display_name": "Python 3 (ipykernel)",
   "language": "python",
   "name": "python3"
  },
  "language_info": {
   "codemirror_mode": {
    "name": "ipython",
    "version": 3
   },
   "file_extension": ".py",
   "mimetype": "text/x-python",
   "name": "python",
   "nbconvert_exporter": "python",
   "pygments_lexer": "ipython3",
   "version": "3.10.4"
  }
 },
 "nbformat": 4,
 "nbformat_minor": 5
}
